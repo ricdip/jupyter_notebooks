{
 "cells": [
  {
   "cell_type": "markdown",
   "metadata": {},
   "source": [
    "# Graphs with networkx"
   ]
  },
  {
   "cell_type": "code",
   "execution_count": 4,
   "metadata": {},
   "outputs": [],
   "source": [
    "import networkx as nx"
   ]
  },
  {
   "cell_type": "code",
   "execution_count": 5,
   "metadata": {},
   "outputs": [],
   "source": [
    "# create graph\n",
    "G = nx.Graph()"
   ]
  },
  {
   "cell_type": "code",
   "execution_count": 6,
   "metadata": {},
   "outputs": [],
   "source": [
    "# add nodes\n",
    "\n",
    "# G.add_node(node_for_adding, **attr)\n",
    "G.add_node(1)\n",
    "# G.add_nodes_from(nodes_for_adding, **attr)\n",
    "G.add_nodes_from([2,3])"
   ]
  },
  {
   "cell_type": "code",
   "execution_count": 7,
   "metadata": {},
   "outputs": [],
   "source": [
    "# add edges\n",
    "\n",
    "# G.add_edge(u_of_edge, v_of_edge, **attr)\n",
    "G.add_edge(1,2)\n",
    "# G.add_edges_from(ebunch_to_add, **attr)\n",
    "G.add_edges_from([(1,2),(1,3)])"
   ]
  },
  {
   "cell_type": "code",
   "execution_count": 8,
   "metadata": {},
   "outputs": [
    {
     "name": "stdout",
     "output_type": "stream",
     "text": [
      "3\n",
      "[1, 2, 3]\n",
      "2\n",
      "[(1, 2), (1, 3)]\n",
      "[2, 3]\n",
      "[2, 3]\n",
      "2\n"
     ]
    }
   ],
   "source": [
    "# graph exploration\n",
    "print(G.number_of_nodes())\n",
    "print(G.nodes)\n",
    "print(G.number_of_edges())\n",
    "print(G.edges())\n",
    "print(list(G.neighbors(1)))\n",
    "print(list(G.adj[1]))\n",
    "print(G.degree(1))"
   ]
  },
  {
   "cell_type": "code",
   "execution_count": 9,
   "metadata": {},
   "outputs": [
    {
     "name": "stdout",
     "output_type": "stream",
     "text": [
      "{2: {}, 3: {}}\n",
      "{}\n",
      "{}\n"
     ]
    }
   ],
   "source": [
    "# Accessing edges and neighbors\n",
    "print(G[1]) # same as G.adj[1]\n",
    "print(G[1][2]) # access edge (1,2)\n",
    "print(G.edges[1,2]) # access edge (1,2)"
   ]
  },
  {
   "cell_type": "code",
   "execution_count": 10,
   "metadata": {},
   "outputs": [],
   "source": [
    "# You can get/set the attributes of an edge using subscript notation if the edge already exists.\n",
    "#\n",
    "# G.add_edge(1, 2, weight=4.7 )\n",
    "# G.add_edges_from([(3, 4), (4, 5)], color='red')\n",
    "# G.add_edges_from([(1, 2, {'color': 'blue'}), (2, 3, {'weight': 8})])\n",
    "\n",
    "\n",
    "G[1][3]['color'] = \"blue\"\n",
    "G.edges[1,2]['color'] = \"red\""
   ]
  },
  {
   "cell_type": "code",
   "execution_count": 11,
   "metadata": {},
   "outputs": [],
   "source": [
    "# Node attributes\n",
    "#\n",
    "# G.add_node(1, time='5pm')\n",
    "# G.add_nodes_from([3], time='2pm')"
   ]
  },
  {
   "cell_type": "markdown",
   "metadata": {},
   "source": [
    "## Drawing graphs with matplotlib"
   ]
  },
  {
   "cell_type": "code",
   "execution_count": 12,
   "metadata": {},
   "outputs": [],
   "source": [
    "import matplotlib.pyplot as plt\n",
    "%matplotlib inline"
   ]
  },
  {
   "cell_type": "code",
   "execution_count": 13,
   "metadata": {},
   "outputs": [
    {
     "name": "stderr",
     "output_type": "stream",
     "text": [
      "C:\\Users\\Riccardo\\Anaconda3\\envs\\myenv\\lib\\site-packages\\networkx\\drawing\\nx_pylab.py:611: MatplotlibDeprecationWarning: isinstance(..., numbers.Number)\n",
      "  if cb.is_numlike(alpha):\n"
     ]
    },
    {
     "data": {
      "text/plain": [
       "<matplotlib.collections.PathCollection at 0x2313c38c0b8>"
      ]
     },
     "execution_count": 13,
     "metadata": {},
     "output_type": "execute_result"
    },
    {
     "data": {
      "image/png": "[encoded data removed]",
      "text/plain": [
       "<Figure size 360x360 with 1 Axes>"
      ]
     },
     "metadata": {
      "needs_background": "light"
     },
     "output_type": "display_data"
    }
   ],
   "source": [
    "plt.figure(figsize=(5,5))\n",
    "pos=nx.spring_layout(G)\n",
    "\n",
    "edges = G.edges()\n",
    "colors = [G[u][v]['color'] for u,v in edges]\n",
    "\n",
    "nx.draw_networkx_edges(G,pos,edgelist=edges,edge_color=colors)\n",
    "nx.draw_networkx_nodes(G,pos,nodelist=G.nodes(),node_color='orange')\n"
   ]
  },
  {
   "cell_type": "code",
   "execution_count": 14,
   "metadata": {},
   "outputs": [
    {
     "data": {
      "image/png": "[encoded data removed]",
      "text/plain": [
       "<Figure size 360x360 with 1 Axes>"
      ]
     },
     "metadata": {},
     "output_type": "display_data"
    }
   ],
   "source": [
    "plt.figure(figsize=(5,5))\n",
    "pos=nx.spring_layout(G)\n",
    "\n",
    "edges = G.edges()\n",
    "colors = [G[u][v]['color'] for u,v in edges]\n",
    "\n",
    "nx.draw(G,pos,edges=edges,edge_color=colors,node_color='orange')"
   ]
  },
  {
   "cell_type": "markdown",
   "metadata": {},
   "source": [
    "### Drawing also node colors"
   ]
  },
  {
   "cell_type": "code",
   "execution_count": 15,
   "metadata": {},
   "outputs": [
    {
     "data": {
      "text/plain": [
       "NodeDataView({1: {'color': 'red'}, 2: {'color': 'blue'}, 3: {'color': 'green'}})"
      ]
     },
     "execution_count": 15,
     "metadata": {},
     "output_type": "execute_result"
    }
   ],
   "source": [
    "G.add_nodes_from([(1,{'color':'red'}),(2,{'color':'blue'}),(3,{'color':'green'})])\n",
    "G.nodes(data=True)"
   ]
  },
  {
   "cell_type": "code",
   "execution_count": 16,
   "metadata": {},
   "outputs": [
    {
     "data": {
      "text/plain": [
       "<matplotlib.collections.PathCollection at 0x2313c482e80>"
      ]
     },
     "execution_count": 16,
     "metadata": {},
     "output_type": "execute_result"
    },
    {
     "data": {
      "image/png": "[encoded data removed]",
      "text/plain": [
       "<Figure size 360x360 with 1 Axes>"
      ]
     },
     "metadata": {
      "needs_background": "light"
     },
     "output_type": "display_data"
    }
   ],
   "source": [
    "plt.figure(figsize=(5,5))\n",
    "pos=nx.spring_layout(G)\n",
    "\n",
    "edges = G.edges()\n",
    "edge_colors = [G[u][v]['color'] for u,v in edges]\n",
    "nodes = G.nodes()\n",
    "node_colors = [G.node[i]['color'] for i in nodes]\n",
    "\n",
    "nx.draw_networkx_edges(G,pos,edgelist=edges,edge_color=edge_colors)\n",
    "nx.draw_networkx_nodes(G,pos,nodelist=nodes,node_color=node_colors)\n"
   ]
  },
  {
   "cell_type": "code",
   "execution_count": 17,
   "metadata": {},
   "outputs": [
    {
     "data": {
      "image/png": "[encoded data removed]",
      "text/plain": [
       "<Figure size 360x360 with 1 Axes>"
      ]
     },
     "metadata": {},
     "output_type": "display_data"
    }
   ],
   "source": [
    "plt.figure(figsize=(5,5))\n",
    "pos=nx.spring_layout(G)\n",
    "\n",
    "edges = G.edges()\n",
    "edge_colors = [G[u][v]['color'] for u,v in edges]\n",
    "nodes = G.nodes()\n",
    "node_colors = [G.node[i]['color'] for i in nodes]\n",
    "\n",
    "nx.draw(G,pos,edges=edges,edge_color=edge_colors,node_color=node_colors)"
   ]
  },
  {
   "cell_type": "markdown",
   "metadata": {},
   "source": [
    "## Drawing also labels"
   ]
  },
  {
   "cell_type": "code",
   "execution_count": 18,
   "metadata": {},
   "outputs": [
    {
     "data": {
      "text/plain": [
       "{1: Text(0.0005561724701644475, -0.0009705193474718343, '1'),\n",
       " 2: Text(0.5727944743879176, -0.999029480652528, '2'),\n",
       " 3: Text(-0.573350646858082, 1.0, '3')}"
      ]
     },
     "execution_count": 18,
     "metadata": {},
     "output_type": "execute_result"
    },
    {
     "data": {
      "image/png": "[encoded data removed]",
      "text/plain": [
       "<Figure size 360x360 with 1 Axes>"
      ]
     },
     "metadata": {
      "needs_background": "light"
     },
     "output_type": "display_data"
    }
   ],
   "source": [
    "# node labels\n",
    "node_labels = {i:i for i in G.nodes()}\n",
    "edge_labels = {(u,v):\"(%s,%s)\" % (u,v) for u,v in G.edges()}\n",
    "\n",
    "plt.figure(figsize=(5,5))\n",
    "pos=nx.spring_layout(G)\n",
    "\n",
    "edges = G.edges()\n",
    "edge_colors = [G[u][v]['color'] for u,v in edges]\n",
    "nodes = G.nodes()\n",
    "node_colors = [G.node[i]['color'] for i in nodes]\n",
    "\n",
    "nx.draw_networkx_edges(G,pos,edgelist=edges,edge_color=edge_colors)\n",
    "nx.draw_networkx_nodes(G,pos,nodelist=nodes,node_color=node_colors)\n",
    "\n",
    "# edge labels\n",
    "nx.draw_networkx_edge_labels(G,pos,edge_labels=edge_labels)\n",
    "# node labels\n",
    "nx.draw_networkx_labels(G,pos,labels=node_labels)"
   ]
  },
  {
   "cell_type": "markdown",
   "metadata": {},
   "source": [
    "### Writing graph on file"
   ]
  },
  {
   "cell_type": "code",
   "execution_count": 19,
   "metadata": {},
   "outputs": [],
   "source": [
    "nx.write_gml(G,'graph1.gml')"
   ]
  },
  {
   "cell_type": "markdown",
   "metadata": {},
   "source": [
    "### Reading gml graph"
   ]
  },
  {
   "cell_type": "code",
   "execution_count": 20,
   "metadata": {},
   "outputs": [],
   "source": [
    "H = nx.read_gml('graph1.gml')"
   ]
  },
  {
   "cell_type": "code",
   "execution_count": 21,
   "metadata": {},
   "outputs": [
    {
     "name": "stdout",
     "output_type": "stream",
     "text": [
      "H ha 3 nodi e 2 archi.\n"
     ]
    }
   ],
   "source": [
    "print(\"H ha\", H.number_of_nodes(), \"nodi e\", H.number_of_edges(), \"archi.\")"
   ]
  },
  {
   "cell_type": "markdown",
   "metadata": {},
   "source": [
    "## Graph generators and graph operations"
   ]
  },
  {
   "cell_type": "markdown",
   "metadata": {},
   "source": [
    "1. Applying classic graph operations, such as:\n",
    "    * subgraph(G, nbunch): induced subgraph view of G on nodes in nbunch\n",
    "    \n",
    "    * union(G1,G2): graph union\n",
    "\n",
    "    * disjoint_union(G1,G2): graph union assuming all nodes are different\n",
    "\n",
    "    * cartesian_product(G1,G2): return Cartesian product graph\n",
    "\n",
    "    * compose(G1,G2): combine graphs identifying nodes common to both\n",
    "\n",
    "    * complement(G): graph complement\n",
    "\n",
    "    * create_empty_copy(G): return an empty copy of the same graph class\n",
    "\n",
    "    * to_undirected(G): return an undirected representation of G\n",
    "\n",
    "    * to_directed(G): return a directed representation of G\n",
    "\n",
    "\n",
    "2. Using a call to one of the classic small graphs:\n",
    "    * petersen = nx.petersen_graph()\n",
    "\n",
    "    * tutte = nx.tutte_graph()\n",
    "\n",
    "    * maze = nx.sedgewick_maze_graph()\n",
    "\n",
    "    * tet = nx.tetrahedral_graph()\n",
    "\n",
    "\n",
    "3. Using a (constructive) generator for a classic graph:\n",
    "    * K_5 = nx.complete_graph(5)\n",
    "    \n",
    "    * K_3_5 = nx.complete_bipartite_graph(3, 5)\n",
    "    \n",
    "    * barbell = nx.barbell_graph(10, 10)\n",
    "    \n",
    "    * lollipop = nx.lollipop_graph(10, 20)\n",
    "\n",
    "\n",
    "4. Using a stochastic graph generator\n",
    "    * er = nx.erdos_renyi_graph(100, 0.15)\n",
    "    \n",
    "    * ws = nx.watts_strogatz_graph(30, 3, 0.1)\n",
    "    \n",
    "    * ba = nx.barabasi_albert_graph(100, 5)\n",
    "    \n",
    "    * red = nx.random_lobster(100, 0.9, 0.9)"
   ]
  },
  {
   "cell_type": "markdown",
   "metadata": {},
   "source": [
    "## Analyzing graphs"
   ]
  },
  {
   "cell_type": "code",
   "execution_count": 26,
   "metadata": {},
   "outputs": [
    {
     "data": {
      "text/plain": [
       "[{'1', '2', '3'}]"
      ]
     },
     "execution_count": 26,
     "metadata": {},
     "output_type": "execute_result"
    }
   ],
   "source": [
    "list(nx.connected_components(H))"
   ]
  },
  {
   "cell_type": "code",
   "execution_count": 38,
   "metadata": {},
   "outputs": [
    {
     "data": {
      "text/plain": [
       "[1, 1, 2]"
      ]
     },
     "execution_count": 38,
     "metadata": {},
     "output_type": "execute_result"
    }
   ],
   "source": [
    "##\n",
    "# Return a new list containing all items from the iterable in ascending order.\n",
    "#\n",
    "# sorted(iterable, /, *, key=None, reverse=False)\n",
    "\n",
    "sorted((d for n, d in H.degree()))"
   ]
  },
  {
   "cell_type": "code",
   "execution_count": 40,
   "metadata": {},
   "outputs": [
    {
     "data": {
      "text/plain": [
       "{'1': 0, '2': 0, '3': 0}"
      ]
     },
     "execution_count": 40,
     "metadata": {},
     "output_type": "execute_result"
    }
   ],
   "source": [
    "nx.clustering(H)"
   ]
  },
  {
   "cell_type": "code",
   "execution_count": 43,
   "metadata": {},
   "outputs": [
    {
     "data": {
      "text/plain": [
       "{'1': {'1': ['1'], '2': ['1', '2'], '3': ['1', '3']},\n",
       " '2': {'2': ['2'], '1': ['2', '1'], '3': ['2', '1', '3']},\n",
       " '3': {'3': ['3'], '1': ['3', '1'], '2': ['3', '1', '2']}}"
      ]
     },
     "execution_count": 43,
     "metadata": {},
     "output_type": "execute_result"
    }
   ],
   "source": [
    "# Compute shortest paths between all nodes.\n",
    "dict(nx.all_pairs_shortest_path(H))"
   ]
  },
  {
   "cell_type": "markdown",
   "metadata": {},
   "source": [
    "## Classic graphs"
   ]
  },
  {
   "cell_type": "code",
   "execution_count": 47,
   "metadata": {},
   "outputs": [],
   "source": [
    "K = nx.complete_graph(6)"
   ]
  },
  {
   "cell_type": "code",
   "execution_count": 49,
   "metadata": {},
   "outputs": [
    {
     "data": {
      "text/plain": [
       "<matplotlib.collections.PathCollection at 0x23143c6eda0>"
      ]
     },
     "execution_count": 49,
     "metadata": {},
     "output_type": "execute_result"
    },
    {
     "data": {
      "image/png": "[encoded data removed]",
      "text/plain": [
       "<Figure size 360x360 with 1 Axes>"
      ]
     },
     "metadata": {
      "needs_background": "light"
     },
     "output_type": "display_data"
    }
   ],
   "source": [
    "plt.figure(figsize=(5,5))\n",
    "pos=nx.spring_layout(K)\n",
    "\n",
    "nx.draw_networkx_edges(K,pos,edgelist=K.edges(),edge_color='black')\n",
    "nx.draw_networkx_nodes(K,pos,nodelist=K.nodes(),node_color='orange')"
   ]
  }
 ],
 "metadata": {
  "kernelspec": {
   "display_name": "Python 3",
   "language": "python",
   "name": "python3"
  },
  "language_info": {
   "codemirror_mode": {
    "name": "ipython",
    "version": 3
   },
   "file_extension": ".py",
   "mimetype": "text/x-python",
   "name": "python",
   "nbconvert_exporter": "python",
   "pygments_lexer": "ipython3",
   "version": "3.7.3"
  }
 },
 "nbformat": 4,
 "nbformat_minor": 2
}
