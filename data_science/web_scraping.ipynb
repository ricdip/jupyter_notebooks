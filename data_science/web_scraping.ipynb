{
 "cells": [
  {
   "cell_type": "markdown",
   "metadata": {},
   "source": [
    "## Web scraping in Python"
   ]
  },
  {
   "cell_type": "markdown",
   "metadata": {},
   "source": [
    "Sfide del web scraping:\n",
    "* varietà: ogni sito è differente (trattamento speciale)\n",
    "* durabilità: siti cambiano frequentemente (manutenzione continua)\n",
    "\n",
    "Quando disponibile, meglio usare le API del sito stesso."
   ]
  },
  {
   "cell_type": "code",
   "execution_count": 1,
   "metadata": {},
   "outputs": [],
   "source": [
    "import requests\n",
    "from bs4 import BeautifulSoup"
   ]
  },
  {
   "cell_type": "code",
   "execution_count": 2,
   "metadata": {},
   "outputs": [],
   "source": [
    "q = \"konosuba\"\n",
    "page = 0"
   ]
  },
  {
   "cell_type": "code",
   "execution_count": 3,
   "metadata": {},
   "outputs": [
    {
     "data": {
      "text/plain": [
       "'https://dreamsub.stream/search/?q=konosuba&page=0'"
      ]
     },
     "execution_count": 3,
     "metadata": {},
     "output_type": "execute_result"
    }
   ],
   "source": [
    "query = \"https://dreamsub.stream/search/?q={}&page={}\".format(q, page)\n",
    "query"
   ]
  },
  {
   "cell_type": "code",
   "execution_count": 4,
   "metadata": {},
   "outputs": [],
   "source": [
    "pagina = requests.get(query)\n",
    "# pagina.content"
   ]
  },
  {
   "cell_type": "code",
   "execution_count": 5,
   "metadata": {},
   "outputs": [],
   "source": [
    "pagina_parsed = BeautifulSoup(pagina.content, \"html.parser\")\n",
    "# pagina_parsed"
   ]
  },
  {
   "cell_type": "code",
   "execution_count": 6,
   "metadata": {},
   "outputs": [],
   "source": [
    "risultati_ricerca = pagina_parsed.find(id=\"main-content\")\n",
    "# print(risultati_ricerca.prettify())"
   ]
  },
  {
   "cell_type": "code",
   "execution_count": 7,
   "metadata": {},
   "outputs": [],
   "source": [
    "risultati = risultati_ricerca.find(class_='goblock-content')\n",
    "# print(risultati.prettify())"
   ]
  },
  {
   "cell_type": "code",
   "execution_count": 8,
   "metadata": {},
   "outputs": [],
   "source": [
    "shows = risultati.find_all('div', class_='tvBlock')"
   ]
  },
  {
   "cell_type": "code",
   "execution_count": 9,
   "metadata": {
    "scrolled": false
   },
   "outputs": [
    {
     "name": "stdout",
     "output_type": "stream",
     "text": [
      "-----------------------------------------------\n",
      "\n",
      "titolo:  KonoSuba OVA\n",
      "\n",
      "descrizione:\n",
      "\n",
      "Genere:\n",
      "Avventura,\n",
      "Commedia,\n",
      "Fantasy,\n",
      "Magia,\n",
      "Sovrannaturale\n",
      "\n",
      "Episodi: 1,\n",
      "Anno di inizio: 2016,\n",
      "Rating: 7.88/10\n",
      "\n",
      "\n",
      "link:  /oav/konosuba-ova\n",
      "-----------------------------------------------\n",
      "-----------------------------------------------\n",
      "\n",
      "titolo:  Kono Subarashii Sekai ni Shukufuku wo!\n",
      "\n",
      "descrizione:\n",
      "\n",
      "Genere:\n",
      "Avventura,\n",
      "Commedia,\n",
      "Fantasy,\n",
      "Magia,\n",
      "Sovrannaturale\n",
      "\n",
      "Episodi: 10,\n",
      "Anno di inizio: 2016,\n",
      "Rating: 8.16/10\n",
      "\n",
      "\n",
      "link:  /anime/kono-subarashii-sekai-ni-shukufuku-wo\n",
      "-----------------------------------------------\n",
      "-----------------------------------------------\n",
      "\n",
      "titolo:  Kono Subarashii Sekai ni Shukufuku wo! 2\n",
      "\n",
      "descrizione:\n",
      "\n",
      "Genere:\n",
      "Avventura,\n",
      "Commedia,\n",
      "Fantasy,\n",
      "Magia,\n",
      "Sovrannaturale\n",
      "\n",
      "Episodi: 10,\n",
      "Anno di inizio: 2017,\n",
      "Rating: 8.33/10\n",
      "\n",
      "\n",
      "link:  /anime/kono-subarashii-sekai-ni-shukufuku-wo-2\n",
      "-----------------------------------------------\n",
      "-----------------------------------------------\n",
      "\n",
      "titolo:  Kono Subarashii Sekai ni Shukufuku wo!: Kurenai Densetsu\n",
      "\n",
      "descrizione:\n",
      "\n",
      "Genere:\n",
      "Avventura,\n",
      "Commedia,\n",
      "Fantasy,\n",
      "Magia,\n",
      "Parodia,\n",
      "Sovrannaturale\n",
      "\n",
      "Episodi: 1,\n",
      "Anno di inizio: 2019,\n",
      "Rating: 8.59/10\n",
      "\n",
      "\n",
      "link:  /movie/kono-subarashii-sekai-ni-shukufuku-wo-kurenai-densetsu\n",
      "-----------------------------------------------\n",
      "-----------------------------------------------\n",
      "\n",
      "titolo:  Kono Subarashii Sekai ni Shukufuku wo! 2 OAV\n",
      "\n",
      "descrizione:\n",
      "\n",
      "Genere:\n",
      "Avventura,\n",
      "Commedia,\n",
      "Fantasy,\n",
      "Magia,\n",
      "Sovrannaturale\n",
      "\n",
      "Episodi: 1,\n",
      "Anno di inizio: 2017,\n",
      "Rating: 8.15/10\n",
      "\n",
      "\n",
      "link:  /oav/kono-subarashii-sekai-ni-shukufuku-wo-2-kono-subarashii-geijutsu-ni-shukufuku-wo\n",
      "-----------------------------------------------\n",
      "-----------------------------------------------\n",
      "\n",
      "titolo:  Isekai Quartet\n",
      "\n",
      "descrizione:\n",
      "\n",
      "Genere:\n",
      "Commedia,\n",
      "Fantasy,\n",
      "Parodia\n",
      "\n",
      "Episodi: 12,\n",
      "Anno di inizio: 2019,\n",
      "Rating: 7.72/10\n",
      "\n",
      "\n",
      "link:  /anime/isekai-quartet\n",
      "-----------------------------------------------\n"
     ]
    }
   ],
   "source": [
    "# baseLink = 'https://dreamsub.stream'\n",
    "baseLink = ''\n",
    "for s in shows:\n",
    "    titolo = s.find('div', class_='title').text\n",
    "    descr = s.find('div', class_='desc').text\n",
    "    link = s.find_all('a')[0].get('href')\n",
    "    print(\"-----------------------------------------------\")\n",
    "    print('\\ntitolo: ', titolo)\n",
    "    print('\\ndescrizione:')\n",
    "    print(descr)\n",
    "    print('link: ', baseLink + link)\n",
    "    print(\"-----------------------------------------------\")"
   ]
  }
 ],
 "metadata": {
  "kernelspec": {
   "display_name": "Python 3",
   "language": "python",
   "name": "python3"
  },
  "language_info": {
   "codemirror_mode": {
    "name": "ipython",
    "version": 3
   },
   "file_extension": ".py",
   "mimetype": "text/x-python",
   "name": "python",
   "nbconvert_exporter": "python",
   "pygments_lexer": "ipython3",
   "version": "3.8.3"
  }
 },
 "nbformat": 4,
 "nbformat_minor": 4
}
